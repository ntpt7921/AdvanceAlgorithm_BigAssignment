{
 "cells": [
  {
   "cell_type": "markdown",
   "id": "4ae8686a",
   "metadata": {},
   "source": [
    "# Test running function with timer"
   ]
  },
  {
   "cell_type": "code",
   "execution_count": 1,
   "id": "10709417",
   "metadata": {},
   "outputs": [],
   "source": [
    "def long_function_call():\n",
    "    while True:\n",
    "        pass"
   ]
  },
  {
   "cell_type": "code",
   "execution_count": 18,
   "id": "48e19cec",
   "metadata": {},
   "outputs": [],
   "source": [
    "import signal\n",
    "import time\n",
    "\n",
    "runtimes = []\n",
    "\n",
    "def signal_handler(signum, frame):\n",
    "    raise Exception(\"Timed out!\")\n",
    "\n",
    "signal.signal(signal.SIGALRM, signal_handler)\n",
    "\n",
    "def test_timer_interrupt():\n",
    "    signal.setitimer(signal.ITIMER_REAL, 0.097)\n",
    "\n",
    "    try:\n",
    "        start = time.perf_counter_ns()\n",
    "        long_function_call()\n",
    "    except Exception:\n",
    "        runtime = time.perf_counter_ns() - start\n",
    "        runtimes.append(runtime)\n",
    "        \n",
    "for _ in range(100):\n",
    "    test_timer_interrupt()"
   ]
  },
  {
   "cell_type": "code",
   "execution_count": 19,
   "id": "836705e3",
   "metadata": {},
   "outputs": [
    {
     "data": {
      "text/plain": [
       "(array([16.,  9.,  3.,  5.,  2.,  2.,  6.,  2.,  2.,  2.,  2.,  1.,  1.,\n",
       "         0.,  1.,  0.,  0.,  1.,  0.,  2.,  3.,  1.,  1.,  5.,  3.,  3.,\n",
       "         3.,  5.,  4.,  4.,  0.,  3.,  1.,  2.,  0.,  1.,  0.,  0.,  0.,\n",
       "         1.,  0.,  0.,  0.,  1.,  0.,  0.,  0.,  0.,  0.,  0.,  0.,  0.,\n",
       "         0.,  0.,  0.,  0.,  0.,  1.,  0.,  0.,  0.,  0.,  0.,  0.,  0.,\n",
       "         0.,  0.,  0.,  0.,  0.,  0.,  0.,  0.,  0.,  0.,  0.,  0.,  0.,\n",
       "         0.,  0.,  0.,  0.,  0.,  0.,  0.,  0.,  0.,  0.,  0.,  0.,  0.,\n",
       "         0.,  0.,  0.,  0.,  0.,  0.,  0.,  0.,  1.]),\n",
       " array([97.004243  , 97.00498479, 97.00572658, 97.00646837, 97.00721016,\n",
       "        97.00795195, 97.00869374, 97.00943553, 97.01017732, 97.01091911,\n",
       "        97.0116609 , 97.01240269, 97.01314448, 97.01388627, 97.01462806,\n",
       "        97.01536985, 97.01611164, 97.01685343, 97.01759522, 97.01833701,\n",
       "        97.0190788 , 97.01982059, 97.02056238, 97.02130417, 97.02204596,\n",
       "        97.02278775, 97.02352954, 97.02427133, 97.02501312, 97.02575491,\n",
       "        97.0264967 , 97.02723849, 97.02798028, 97.02872207, 97.02946386,\n",
       "        97.03020565, 97.03094744, 97.03168923, 97.03243102, 97.03317281,\n",
       "        97.0339146 , 97.03465639, 97.03539818, 97.03613997, 97.03688176,\n",
       "        97.03762355, 97.03836534, 97.03910713, 97.03984892, 97.04059071,\n",
       "        97.0413325 , 97.04207429, 97.04281608, 97.04355787, 97.04429966,\n",
       "        97.04504145, 97.04578324, 97.04652503, 97.04726682, 97.04800861,\n",
       "        97.0487504 , 97.04949219, 97.05023398, 97.05097577, 97.05171756,\n",
       "        97.05245935, 97.05320114, 97.05394293, 97.05468472, 97.05542651,\n",
       "        97.0561683 , 97.05691009, 97.05765188, 97.05839367, 97.05913546,\n",
       "        97.05987725, 97.06061904, 97.06136083, 97.06210262, 97.06284441,\n",
       "        97.0635862 , 97.06432799, 97.06506978, 97.06581157, 97.06655336,\n",
       "        97.06729515, 97.06803694, 97.06877873, 97.06952052, 97.07026231,\n",
       "        97.0710041 , 97.07174589, 97.07248768, 97.07322947, 97.07397126,\n",
       "        97.07471305, 97.07545484, 97.07619663, 97.07693842, 97.07768021,\n",
       "        97.078422  ]),\n",
       " <BarContainer object of 100 artists>)"
      ]
     },
     "execution_count": 19,
     "metadata": {},
     "output_type": "execute_result"
    },
    {
     "data": {
      "image/png": "[encoded data removed]",
      "text/plain": [
       "<Figure size 640x480 with 1 Axes>"
      ]
     },
     "metadata": {},
     "output_type": "display_data"
    }
   ],
   "source": [
    "import matplotlib.pyplot as plt\n",
    "\n",
    "# plot runtimes\n",
    "runtimes_ms = [rt/1_000_000 for rt in runtimes]\n",
    "fig, ax = plt.subplots()\n",
    "ax.hist(runtimes_ms, bins=100, linewidth=0.5, edgecolor=\"white\")"
   ]
  },
  {
   "cell_type": "code",
   "execution_count": null,
   "id": "b48a8024",
   "metadata": {},
   "outputs": [],
   "source": []
  }
 ],
 "metadata": {
  "kernelspec": {
   "display_name": "AddressMatching",
   "language": "python",
   "name": "addressmatching"
  },
  "language_info": {
   "codemirror_mode": {
    "name": "ipython",
    "version": 3
   },
   "file_extension": ".py",
   "mimetype": "text/x-python",
   "name": "python",
   "nbconvert_exporter": "python",
   "pygments_lexer": "ipython3",
   "version": "3.12.7+"
  }
 },
 "nbformat": 4,
 "nbformat_minor": 5
}

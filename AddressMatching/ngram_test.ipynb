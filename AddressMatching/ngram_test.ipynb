{
 "cells": [
  {
   "cell_type": "markdown",
   "id": "3af1208d",
   "metadata": {},
   "source": [
    "# n-gram test"
   ]
  },
  {
   "cell_type": "code",
   "execution_count": 1,
   "id": "99dece58",
   "metadata": {},
   "outputs": [],
   "source": [
    "import json\n",
    "import random\n",
    "import time\n",
    "import matplotlib.pyplot as plt"
   ]
  },
  {
   "cell_type": "markdown",
   "id": "2be469b8",
   "metadata": {},
   "source": [
    "## Import adminstrative region data"
   ]
  },
  {
   "cell_type": "code",
   "execution_count": 2,
   "id": "a16dd6f4",
   "metadata": {},
   "outputs": [],
   "source": [
    "with open(\"./Data/region_tree.json\", 'r') as file:\n",
    "    region_tree = json.load(file)\n",
    "    \n",
    "with open(\"./Data/reverse_index_dist_to_prov.json\", 'r') as file:\n",
    "    rev_index_dist_to_prov = json.load(file)\n",
    "    \n",
    "with open(\"./Data/reverse_index_ward_to_prov.json\", 'r') as file:\n",
    "    rev_index_ward_to_prov = json.load(file)\n",
    "    \n",
    "with open(\"./Data/reverse_index_ward_to_dist.json\", 'r') as file:\n",
    "    rev_index_ward_to_dist = json.load(file)"
   ]
  },
  {
   "cell_type": "code",
   "execution_count": 3,
   "id": "57083a83",
   "metadata": {},
   "outputs": [],
   "source": [
    "all_provinces = [province['name'] for province in region_tree.values()]\n",
    "all_districts = [district['name'] for district in rev_index_dist_to_prov.values()]\n",
    "all_wards = [ward['name'] for ward in rev_index_ward_to_prov.values()]"
   ]
  },
  {
   "cell_type": "markdown",
   "id": "134c1761",
   "metadata": {},
   "source": [
    "## Build dictionary mapping digram to region name"
   ]
  },
  {
   "cell_type": "code",
   "execution_count": 4,
   "id": "e72ba063",
   "metadata": {},
   "outputs": [],
   "source": [
    "def digram_from_string(string: str) -> [str]: # return list of digram\n",
    "    string = string.strip().lower()\n",
    "    if len(string) == 1:\n",
    "        return [string + ' ']\n",
    "    \n",
    "    normal_digram = [string[i]+string[i+1] for i in range(len(string)-1)]\n",
    "    head_tail_digram = string[0] + string[-1]\n",
    "    #one_gap_digram = [string[i]+string[i+2] for i in range(len(string)-2)]\n",
    "    #one_over_last_digram = string[-1] + ' '\n",
    "    one_before_first_digram = ' ' + string[0]\n",
    "    \n",
    "    return [head_tail_digram, \n",
    "            *normal_digram, \n",
    "            #*one_gap_digram, \n",
    "            #one_over_last_digram, \n",
    "            one_before_first_digram\n",
    "           ]"
   ]
  },
  {
   "cell_type": "code",
   "execution_count": 5,
   "id": "a86dde21",
   "metadata": {},
   "outputs": [],
   "source": [
    "digram_to_region = {}\n",
    "digram_count = 0\n",
    "dupli_count = 0\n",
    "\n",
    "for region_name in all_provinces:\n",
    "    digrams = []\n",
    "    for w in region_name.split():\n",
    "        digrams += digram_from_string(w)\n",
    "    \n",
    "    for dg in digrams:\n",
    "        digram_count += 1\n",
    "        dupli_count += dg in digram_to_region\n",
    "        if dg in digram_to_region:\n",
    "            digram_to_region[dg]['province'].add(region_name)\n",
    "        else:\n",
    "            digram_to_region[dg] = {\n",
    "                'province': set([region_name]),\n",
    "                'district': set(),\n",
    "                'ward': set()\n",
    "            }\n",
    "            \n",
    "for region_name in all_districts:\n",
    "    digrams = []\n",
    "    for w in region_name.split():\n",
    "        digrams += digram_from_string(w)\n",
    "    \n",
    "    for dg in digrams:\n",
    "        digram_count += 1\n",
    "        dupli_count += dg in digram_to_region\n",
    "        if dg in digram_to_region:\n",
    "            digram_to_region[dg]['district'].add(region_name)\n",
    "        else:\n",
    "            digram_to_region[dg] = {\n",
    "                'province': set(),\n",
    "                'district': set([region_name]),\n",
    "                'ward': set()\n",
    "            }\n",
    "\n",
    "for region_name in all_wards:\n",
    "    digrams = []\n",
    "    for w in region_name.split():\n",
    "        digrams += digram_from_string(w)\n",
    "    \n",
    "    for dg in digrams:\n",
    "        digram_count += 1\n",
    "        dupli_count += dg in digram_to_region\n",
    "        if dg in digram_to_region:\n",
    "            digram_to_region[dg]['ward'].add(region_name)\n",
    "        else:\n",
    "            digram_to_region[dg] = {\n",
    "                'province': set(),\n",
    "                'district': set(),\n",
    "                'ward': set([region_name])\n",
    "            }"
   ]
  },
  {
   "cell_type": "code",
   "execution_count": 26,
   "id": "7550f56b",
   "metadata": {},
   "outputs": [
    {
     "name": "stdout",
     "output_type": "stream",
     "text": [
      "75710 74394\n",
      "1316\n",
      "dh {'Vàng Danh', 'Tìa Dình', 'Dịch Vọng', 'Danh Thắng', 'Phước Dinh', 'Dịch Vọng Hậu', 'Băng A Drênh', 'Dĩnh Kế', 'Kinh Dinh', 'Hắc Dịch', 'Hạnh Dịch', 'Mai Dịch', 'Tân Dĩnh', 'Dĩnh Trì', 'Ba Dinh', 'Kim Dinh', 'Ea Dăh', 'Nậm Dịch'}\n",
      "di {'Diễn Kỷ', 'Diên Thọ', 'Kinh Dinh', 'Láng Dài', 'Diễn Xuân', 'Diễn Thành', 'Đầm Dơi', 'Diễn Bích', 'Hoàng Diệu', 'Diên Toàn', 'Di Linh', 'Diễn Tân', 'Diễn Trường', 'A Dơi', 'Di Lăng', 'Phước Dinh', 'Diên Phú', 'Vũ Di', 'Minh Diệu', 'Ia Din', 'Diên Tân', 'Diễn Thái', 'Diễn Phú', 'Diễn Cát', 'Diên Đồng', 'Diễn Hùng', 'Di Trạch', 'Diên Xuân', 'Diên Khánh', 'Cát Dài', 'Diễn Mỹ', 'Diên Lạc', 'Diên Phước', 'Diễn Yên', 'Ba Dinh', 'Diễn Đồng', 'Diễn Ngọc', 'Diên Lâm', 'Diễn Châu', 'Thọ Diên', 'Quỳnh Diễn', 'Phúc Diễn', 'Diễn Nguyên', 'Nghi Diên', 'Diễn Lợi', 'Phú Diên', 'Diễn Lâm', 'Diễn Hoàng', 'Diên Điền', 'Diễn Hạnh', 'Diên Thạnh', 'Diễn Trung', 'Phú Diễn', 'Diễn Quảng', 'Diêu Trì', 'Diên Sơn', 'Trần Quang Diệu', 'Diên Bình', 'Diễn Hoa', 'Diên Lãm', 'Diễn Kim', 'Ninh Diêm', 'Diên Hòa', 'Quang Diệm', 'Kim Dinh', 'Diễn An', 'Phát Diệm', 'Diễn Lộc', 'Diễn Thịnh', 'Cầu Diễn', 'Diên An', 'Phước Diêm', 'Diễn Phong', 'Diên Hồng', 'Diễn Vạn', 'Diễn Đoài', 'Diễn Hải', 'Diên Sanh', 'Diễn Tháp', 'Diêm Điền', 'Diễn Phúc', 'Trảng Dài', 'Diễn Thọ', 'Diễn Hồng', 'Diễn Liên'}\n",
      "ic {'Zuôich'}\n",
      "ch {'Nậm Chạc', 'Mùn Chung', 'Châu Cường', 'Bách Khoa', 'Buôn Choah', 'Thanh Chăn', 'Chấn Hưng', 'Châu Minh', 'Chư Prông', 'Thạch Khôi', 'Phong Châu', 'Chiềng Khay', 'Chân Sơn', 'Thạch Đồng', 'Chiềng Sinh', 'Chu Trinh', 'Hưng Chiến', 'Bàu Chinh', 'An Thạch', 'Chi Lăng', 'Kháng Chiến', 'Phổ Châu', 'Chiềng Dong', 'Chế Cu Nha', 'Thạch Lạc', 'Vĩnh Trạch', 'Bạch Thượng', 'Ba Chúc', 'Vĩnh Chân', 'Châu Điền', 'Tà Chải', 'Chiềng Ơn', \"Ch'ơm\", 'Chư Á', 'Lệ Chi', 'Chu Phan', 'Chiềng Khoang', 'Quỳnh Châu', 'Chiềng Cang', 'Mỹ Châu', 'Tân Chánh Hiệp', 'Chư Răng', 'Chiêu Yên', 'Tiền Châu', 'Hoàng Châu', 'Eachà Rang', 'Đức Chính', 'Thạch Mỹ', 'Ngọc Chúc', 'Tuân Chính', 'Chi Nê', 'Bình Chuẩn', 'Mỹ Chánh', 'Bình Châu', 'Chiềng Sàng', 'Đại Mạch', 'Châu Thành', 'Tả Sử Choóng', 'Lạch Tray', 'Mỹ Chánh Tây', 'Đạ Chais', 'Phú Chánh', 'Châu Quế Hạ', 'Nậm Chua', 'Hải Châu  I', 'Tam Chung', 'Kỳ Châu', 'Lý Trạch', 'Thạch Thán', 'Chiềng Hặc', 'Châu Phong', 'Phan Bội Châu', 'Chính Gián', 'Tích Sơn', 'Chiềng Lương', 'Vân Canh', 'Làng Chếu', 'Chũ', 'Châu Hội', 'Chà Cang', 'Xín Chải', 'Dịch Vọng Hậu', 'Dân Chủ', 'Chiềng Nơi', 'Cẩm Thạch', 'Tú Mịch', 'Quỳnh Thạch', 'Chiềng Khoi', 'Tùng Châu', 'Thạch Hưng', 'Tây Trạch', 'Chánh Mỹ', 'Thạch Liên', 'Trạch Mỹ Lộc', 'Chi Lăng Nam', 'Địch Quả', 'Hắc Dịch', 'Thạch Bàn', 'Bạch Hạ', 'Chí Viễn', 'Châu Bính', 'Chân Mộng', 'Liên Chung', 'Cảnh Thụy', 'Mai Dịch', 'Mường Chiên', 'Đại Chánh', 'Chiềng Ban', 'Chợ Lầu', 'Chu Hóa', 'Chà Tở', 'Trại Chuối', 'Chí Hòa', 'Cheo Reo', 'Minh Chuẩn', 'Cương Chính', 'Bách Thuận', 'Châu Thái', 'Thạch Kênh', 'Thạch Đài', 'Vĩnh Chấp', 'Chí Công', 'Xuân Cảnh', 'Vĩnh Chánh', 'Chiềng Cọ', 'Chiềng Phung', 'Châu Lăng', 'Bạch Đích', 'Nặm Lịch', 'NT Mộc Châu', 'Chợ Rã', 'Máy Chai', 'Phúc Trạch', 'Phật Tích', 'Dìn Chin', 'Tả Ngải Chồ', 'Dương Minh Châu', 'Tích Thiện', 'Cán Chu Phìn', 'Cát Chánh', 'Mường Chùm', 'Văn Chương', 'Chu Minh', 'Hồng Bạch', 'Chà Là', 'Lịch Hội Thượng', 'Ô Chợ Dừa', 'Châu Hạnh', 'Phú Châu', 'Canh Thuận', 'Thào Chư Phìn', 'Trực Chính', 'Bạch Long', 'Hòa Châu', 'Thạch Hà', 'Nậm Cha', 'Pa Cheo', 'Thạch Văn', 'Mường Chiềng', 'Tả Van Chư', 'Châu Đình', 'Nga Thạch', 'Đôn Châu', 'Thủy Châu', 'An Trạch A', 'Châu Nhân', 'Đức Trạch', 'Hương Canh', 'Ba Bích', 'Chu Điện', 'Chu Hương', 'Phùng Chí Kiên', 'Phương Canh', 'Chiềng Sung', 'Đại Trạch', 'Cách Linh', 'Ngọc Chiến', 'Bạch Hà', 'Hiền Chung', 'Chợ Gạo', 'Bạch Hạc', 'Thạch Xuân', 'Tiên Châu', 'Chính Mỹ', 'Châu Nga', 'Chí Tiên', 'Hải Châu II', 'Châu Lý', 'Chính Lý', 'Chiềng Kheo', 'Đồng Ích', 'Nam Chính', 'Trung Chính', 'Châu Quế Thượng', 'Chi Lăng Bắc', 'Chrôh Pơnan', 'Phượng Cách', 'Mỏ Chè', 'Công Chính', 'Chế Là', 'Châu Thuận', 'Yên Châu', 'Cách Bi', 'Phong Chương', 'Ia Púch', 'Ngọc Chấn', 'Chiêu Lưu', 'Chiềng Ve', 'Thạch Khê', 'Cảnh Hóa', 'Chư Hreng', 'Tân Trạch', 'Châu Hoàn', 'Xuân Châu', 'Thạch Hạ', 'Tủa Chùa', 'Chơ Chun', 'Canh Hiển', 'Chiềng Hoa', 'Nhân Trạch', 'Châu Giang', 'Chi Khê', 'Y Tịch', 'Thanh Trạch', 'Rạch Dừa', 'Bạch Sam', 'Tích Lương', 'Diễn Châu', 'Cái Chiên', 'Lộc Châu', 'Giao Châu', 'Chợ Lách', 'Châu Hòa', 'Chiềng Công', 'Châu Khánh', 'Canh Hiệp', 'Cảnh Dương', 'Chư Don', 'Vàng Ma Chải', 'Trung Chải', 'Châu Can', 'Yên Thạch', 'Vũ Chấn', 'Chí Thạnh', 'Lũng Chinh', 'Chợ Mới', 'Mộc Châu', 'Chăn Nưa', 'Thạch Yên', 'Lê Chung', 'Chiềng Chăn', 'Thanh Châu', 'Thạch Hải', 'Chợ Vàm', 'Tô Châu', 'Tân Chi', 'Quách Phẩm', 'Trung Trạch', 'Châu Văn Liêm', 'Chính Nghĩa', 'Liên Châu', 'Kông Chro', 'Phụng Châu', 'Kim Thạch', 'Khoái Châu', 'Chiềng Khoong', 'Yên Chính', 'Châu Thắng', 'Lê Chánh', 'Chí Cà', 'Quang Lịch', 'Chiềng Lề', 'Chiềng Chung', 'Chấn Thịnh', 'Nà Chì', 'Bàn Thạch', 'Tràm Chim', 'Thạch Ngàn', 'Quang Châu', 'Quảng Chu', 'Gia Canh', 'Châu Phú B', 'Chân Lý', 'Lâm Trạch', 'Thạch Lỗi', 'Nam Trạch', 'Cảnh Hưng', 'Quảng Châu', 'Hà Châu', 'Hà Thạch', 'Chánh Nghĩa', 'Chi Đông', 'Hạnh Dịch', 'Nậm Chảy', 'Mù Căng Chải', 'Mường Chanh', 'Châu Thới', 'Hoà Chánh', 'Châu Pha', 'Châu Tiến', 'Hợp Châu', 'Chiềng Mung', 'Canh Nậu', 'Chúc Sơn', 'Chiềng Yên', 'Chư Ngọc', 'Nhị Châu', 'Kim Chính', 'Nha Bích', 'Thạch Trung', 'Chư Rcăm', 'Hoà Chung', 'Thạch Hóa', 'Nhân Chính', 'Liêm Chung', 'Nghi Thạch', 'Tân Chánh', 'Tân Công Chí', 'Bạch Xa', 'Hang Chú', 'Hòa Chính', 'Chư Drăng', 'Gio Châu', 'Lai Cách', 'Vĩnh Trạch Đông', 'Chư Băh', 'Tuần Châu', 'Chùa Hang', 'Châu Hưng A', 'Chiềng Bôm', 'Chiềng Sại', 'Tung Chung Phố', 'Chiềng Xôm', 'Thạch Lập', 'Chiềng Ken', 'Nậm Chầy', 'Chiềng Châu', 'Phước Chính', 'Hòa Thạch', 'Biển Bạch Đông', 'Rạch Sỏi', 'Đồng Trạch', 'Châu Bình', 'Chế Tạo', 'Thèn Chu Phìn', 'Châu Lộc', 'Củ Chi', 'Phước Trạch', 'Quảng Trạch', 'Vĩnh Châu B', 'Thạch Trị', 'Quân Chu', 'Chí Đám', 'Chàng Sơn', 'Hưng Trạch', 'An Chấn', 'Chiềng Khoa', 'Ngọc Chánh', 'Chư Pơng', 'Mai Châu', 'Chiềng Sơn', 'Tiên Cảnh', 'Châu Hồng', 'Chuyên Ngoại', 'Thanh Chi', 'Đồng Chum', 'Tịnh Châu', 'Nghĩa Châu', 'Chất Bình', 'Hương Trạch', 'Chư A Thai', 'Thạch Tượng', 'Chiềng Xuân', 'Di Trạch', 'Phan Chu Trinh', 'Hải Chánh', 'Minh Châu', 'Trường Chinh', 'Bình Chánh', 'Chư Gu', 'Thiệu Chính', 'Xích Thổ', 'Phước Chiến', 'Phương Chiểu', 'Chiềng San', 'An Trạch', 'Xuân Trạch', 'Thạch Linh', 'Thạch Lương', 'Chờ', 'Bạch Đằng', 'Chí Đạo', 'Dị Chế', 'Thị Trấn Mường Chà', 'Chiềng Đen', 'Yên Trạch', 'Thạch Bình', 'Chuyên Mỹ', 'Phúc Chu', 'Quyết Chiến', 'Linh Chiểu', 'Bạch Lưu', 'Phù Chẩn', 'Chí Thảo', 'Nhuận Trạch', 'Chơ Long', 'Thổ Châu', 'Liên Trạch', 'Chí Tân', 'Thạch Kim', 'Chiềng On', 'Nậm Chà', 'Chư Krêy', 'Chỉ Đạo', 'Hải Châu', 'Quảng Thạch', 'Canh Hòa', 'Châu Quang', 'Phước Chỉ', 'Chiềng Bằng', 'Chiềng Sơ', 'Thạch Xá', 'Mương Chanh', 'Xuân Chính', 'Trung Chánh', 'Bình Chương', 'Chiềng Đông', 'Quảng Chính', 'Ninh Ích', 'Kim Chân', 'Rạch Gốc', 'Đào Hữu Cảnh', 'Chánh An', 'Thanh Chương', 'Cao Chương', 'Chiềng Muôn', 'Tân Thạch', 'Dạ Trạch', 'Bành Trạch', 'Liêm Chính', 'Chiến Thắng', 'Vạn Trạch', 'Nhơn Châu', 'Thạch Lâm', 'Kế Sách', 'Bạch Ngọc', 'Dịch Vọng', 'Lập Thạch', 'Long Trạch', 'Chợ Chu', 'Cành Nàng', 'Thụy Chính', 'Bãi Cháy', 'Hưng Chính', 'Nguyễn Phích', 'Chiềng Lao', 'Cẩm Chế', 'Trúc Bạch', 'Xuân Chinh', 'Thạch Đà', 'Chiềng En', 'Xuân Canh', 'Hương Chữ', 'Hàm Chính', 'Long Chữ', 'Tủa Sín Chải', 'Long Chánh', 'Nga Bạch', 'Long Châu', 'Ích Hậu', 'Cẩm Châu', 'Chiêu Vũ', 'Châu Phú A', 'Thạch Cẩm', 'Triệu Trạch', 'Đức Chánh', 'Châu Kim', 'Ia Pếch', 'Chiến Phố', 'Chư Sê', 'Nghĩa Chánh', 'Chiềng Pấc', 'Chiềng Ly', 'Đắk Choong', 'Diễn Bích', 'Canh Tân', 'Hoằng Châu', 'Châu Hưng', 'Thạch Hoà', 'Lao Chải', 'Sín Chéng', 'Chí Minh', 'Chiềng Mai', 'Sán Chải', 'Hoằng Trạch', 'Ngũ Chỉ Sơn', 'Quách Phẩm Bắc', 'Duy Châu', 'Hồng Châu', 'Vũ Chính', 'Cam Chính', 'Giàng Chu Phìn', 'Bắc Trạch', 'Chi Thiết', 'Thạch Định', 'Hạ Trạch', 'Vĩnh Châu', 'Nậm Dịch', 'Sơn Châu', 'Chợ Chùa', 'Ngọc Châu', 'Nam Sách', 'Thạch Châu', 'Chư Đăng Ya', 'Ia Chim', 'Chà Vàl', 'Lao Và Chải', 'Chiềng An', 'Chương Xá', 'Quế Châu', 'Chim Vàn', 'Tân Cảnh', 'Bích Đào', 'Chương Dương', 'Chư Mố', 'Hoài Châu', 'Thạch Quảng', 'An Châu', 'Thanh Thạch', 'Thạch Long', 'Thạch Giám', 'Nhựt Chánh', 'Chiềng La', 'Thạch Thang', 'Biển Bạch', 'Ba Chẽ', 'Châu Hóa', 'Vần Chải', 'Chà Nưa', 'Bạch Mai', 'Tân Châu', 'Thị Trấn Châu Ổ', 'Lang Chánh', 'Thuận Châu', 'Trung Châu', 'Phước Chánh', 'Hoài Châu Bắc', 'Đại Lịch', 'Chiềng Ngần', 'Quang Chiểu', 'Thượng Trạch', 'Bình Chiểu', 'Châu Thôn', 'Hòa Trạch', 'Tân Mỹ Chánh', 'Đình Chu', 'Bách Quang', 'Hiệp Bình Chánh', 'Ia Chia', 'Chiềng Ân', 'Mỹ Trạch', 'Bích Hòa', 'Thạch Sơn', 'Thạch Quý', 'Canh Liên', 'Bích Động', 'Phố Châu', 'Tân Chính', 'Chánh Lộ', 'Thạch Khoán', 'Chiềng Ngàm', 'Chiềng Khương', 'Thạch Kiệt', 'Chiềng Khừa', 'Kim Chung', 'Chiềng Cơi', 'Măng Cành', 'Kon Chiêng', 'Chư KBô', 'Tích Giang', 'Chiềng Tương', 'Mai Hịch', 'Thạch Đạn', 'Zuôich', 'Vĩnh Châu A', 'Canh Vinh', 'Quảng Bạch', 'Rạch Chèo', 'Châu Sơn', 'Chiềng Pha', 'Rạch Gòi', 'Chánh Phú Hòa', 'Trân Châu', 'Thạch Thắng', 'Chư Ty', 'Châu Khê', 'Chiềng Hắc', 'Chiềng Pằn', 'Thạch Hội', 'Chung Chải', 'Thạch Ngọc'}\n",
      " d {'Thiệu Duy', 'Duy Nghĩa', \"K' Dang\", 'Anh Dũng', 'Dliê Yang', 'Hải Dương', 'Kinh Dinh', 'Láng Dài', 'Đầm Dơi', 'Chiềng Dong', 'Hoàng Diệu', 'Duy Trinh', 'Đồng Du', 'Dầu Giây', 'Phong Dụ Thượng', 'Ia Din', 'Diên Tân', 'Lạc Dương', 'An Dương', 'Diên Đồng', 'Xuân Dục', 'Vân Du', 'Trà Dương', 'Ka Dăng', 'Cát Dài', 'Dền Thàng', 'Dương Đông', 'Đăk Djrăng', 'Dầu Tiếng', 'La Dêê', 'Dũng Phong', 'Dịch Vọng Hậu', 'Dân Chủ', 'Dữu Lâu', 'Phúc Diễn', 'Phú Diên', 'Dân Tiến', 'Duyên Hà', 'Diễn Hoàng', 'Nghĩa Dũng', 'Hắc Dịch', 'Duy Phiên', 'Phan Dũng', 'Tiên Dương', 'Đắk Drô', 'Mai Dịch', 'Nam Du', 'Diễn Quảng', 'Sà Dề Phìn', 'Diêu Trì', 'Trần Quang Diệu', 'Duyên Hải', 'Dực Yên', 'Dương Hưu', 'Thụy Dân', 'Ia Dom', 'Dương Hồng  Thủy', 'Diễn Kim', 'Dục Tú', 'Sơn Dung', 'Hưng Dũng', 'Quang Diệm', 'Kim Dinh', 'Dĩ An', 'Dìn Chin', 'Dương Minh Châu', 'Dũng Liệt', 'Cao Dương', 'Phước Diêm', 'Đại Dực', 'Việt Dân', 'Gò Dầu', 'Ô Chợ Dừa', 'Diên Sanh', 'Dương Quang', 'Diễn Thọ', 'Thiệu Dương', 'Vỹ Dạ', 'Duy Nhất', 'Dào San', 'Dang Kang', 'Du Già', 'Duy Phú', 'Đông Dư', 'Diễn Tân', 'Kênh Dương', 'Diễn Trường', 'Điện Dương', 'A Dơi', 'Diên Phú', 'Dân Hóa', 'Dư Hàng Kênh', 'Duy Thu', 'Phước Dân', 'Vàng Danh', 'Tìa Dình', 'Cửa Dương', 'Dương Phúc', 'Diễn Cát', 'Hành Dũng', 'Nội Duệ', 'Diên Khánh', 'Diên Lạc', 'Dray Bhăng', 'Diên Phước', 'Dương Huy', 'Diễn Ngọc', 'Duyệt Trung', 'Rạch Dừa', 'Diên Lâm', 'Mồ Dề', 'Bản Díu', 'Diễn Châu', 'Diễn Nguyên', 'Phượng Dực', 'Cù Lao Dung', 'Yên Dưỡng', 'Tự Do', 'Đình Dù', 'Cảnh Dương', 'An Dục', 'Chư Don', 'Xuân Dương', 'Thẩm Dương', 'Hồng Dụ', 'Dương Đức', 'Diễn Hạnh', 'Diên Thạnh', 'Duy Thành', 'La Dạ', 'Diên Sơn', 'Ninh Dương', 'Diên Bình', 'Ninh Diêm', 'Đào Dương', 'Trà Dơn', 'Dương Quỳ', 'Mậu Duệ', 'Du Tiến', 'Dị Sử', 'Diễn Lộc', 'Diễn Thịnh', 'Hạnh Dịch', 'Dân Lý', 'Đông Dương', 'Dang', 'Dũng Nghĩa', 'Diễn Vạn', 'Nấm Dẩn', 'Quỳnh Dị', 'Diễn Hải', 'Dị Nậu', 'Thể Dục', 'Diễn Phúc', 'Duy Ninh', 'Dương Thành', 'Thủy Dương', 'Dân Quyền', 'Diễn Hồng', 'Nam Dong', 'Tiên Du', 'Tam Dị', 'Du Lễ', 'Tam Dân', 'Chư Drăng', 'Ninh Dân', 'Diễn Kỷ', 'An Dân', 'Diên Thọ', 'Tử Du', 'Nghĩa Dân', 'Diễn Xuân', 'Xa Dung', 'Di Linh', 'Cẩm Dương', 'Di Lăng', 'Ia Dơk', 'Minh Diệu', 'Dế Su Phình', 'Tân Duyệt', 'Dương Phong', 'Diễn Thái', 'Sở Dầu', 'Diễn Phú', 'Mái Dầm', 'Diễn Hùng', 'Dur KMăl', 'Di Trạch', 'Duy Hải', 'Diên Xuân', 'Ngan Dừa', 'Bình Dương', 'Tiến Dũng', 'A Dơk', 'Diễn Mỹ', 'Cổ Dũng', 'Dương Xuân Hội', 'Tứ Dân', 'Mông Dương', \"Cư Dliê M'nông\", 'Thọ Diên', 'Quỳnh Diễn', 'Suối Dây', 'Dị Chế', 'Sơn Dương', 'Yên Dương', 'Dương Hòa', 'Dương Hà', 'Dần Thàng', 'Duy Hòa', 'Hùng Dũng', 'Diễn Trung', 'Cẩm Duệ', 'Tiên Dược', 'Thanh Dương', 'Dũng Tiến', 'Gành Dầu', 'Đắk Dục', 'Khánh Dương', 'Dray Sáp', 'Duy Sơn', 'Dak Lua', 'Cầu Dền', 'Diên Hòa', 'Dạ Trạch', 'Diễn An', 'Minh Dân', 'Dương Nội', 'Dịch Vọng', 'Cư Drăm', 'Dĩnh Trì', 'Mường Do', 'Cấp Dẫn', 'Diễn Phong', 'Dân Thành', 'Băng A Drênh', 'Đoài Dương', 'Dương Liễu', 'Dồm Cang', 'Lục Dạ', 'Yến Dương', 'Diễn Đoài', 'Nhuế Dương', 'Diêm Điền', 'Trảng Dài', 'Trà Don', 'Ia Dêr', 'Diễn Liên', 'Dưỡng Điềm', 'Bằng Doãn', 'Trung Dũng', 'Đắk DRông', 'Tân Dĩnh', 'Nam Dương', 'Ea Drông', 'Dĩnh Kế', 'Cái Dầu', 'Diễn Thành', 'Dương Thủy', 'Diễn Bích', 'Kon Dơng', 'Duy Vinh', 'Diên Toàn', 'Tảo Dương Văn', 'Hồng Dũng', 'Pơng Drang', 'Ia Drăng', 'Phước Dinh', 'Vũ Di', 'Duy Tân', 'Dun', 'Duy Châu', 'Phong Dụ Hạ', 'Duy Trung', 'Ea Dăh', 'Nậm Dịch', 'Dương Xá', 'Dương Sơn', 'Khoan Dụ', 'Dân Hòa', \"D'Ran\", 'Duy Phước', 'Trấn Dương', 'Diễn Yên', 'Tân Dương', 'Ba Dinh', 'Duy Minh', 'Chương Dương', 'Diễn Đồng', 'Nghĩa Dõng', 'Thụy Duyên', 'Bình Dân', 'Ia Dreng', 'Cà Dy', 'Phong Dụ', 'Nghi Diên', 'Diễn Lợi', 'Xuân Du', 'Túc Duyên', 'Diễn Lâm', 'Diên Điền', 'Na Dương', 'Vân Dương', 'Phú Diễn', 'Nuông Dăm', 'Duyên Thái', 'Diễn Hoa', 'Dền Sáng', 'Diên Lãm', 'Hồng Dương', 'Danh Thắng', \"Ea M' Doal\", 'Tân Dân', 'An Dũng', 'Phát Diệm', 'Cầu Diễn', 'Dân Lực', 'Diên An', 'Dương Quan', 'Nguyễn Du', 'Dư Hàng', 'Diên Hồng', 'Phú Dương', 'Cây Dương', 'Thái Dương', 'Diễn Tháp', 'Dương Tơ', \"Ea D'Rơng\", 'Thọ Dân', 'Ea Drăng'}\n"
     ]
    }
   ],
   "source": [
    "print(digram_count, dupli_count)\n",
    "print(len(digram_to_region))\n",
    "\n",
    "digrams = ['dh', 'di', 'ic', 'ch', ' d']\n",
    "for d in digrams:\n",
    "    print(d, digram_to_region[d]['ward'])"
   ]
  },
  {
   "cell_type": "markdown",
   "id": "5d77dda8",
   "metadata": {},
   "source": [
    "## Find region with digram"
   ]
  },
  {
   "cell_type": "code",
   "execution_count": 21,
   "id": "88ba85a2",
   "metadata": {},
   "outputs": [],
   "source": [
    "addrs = ['Ea. Knốp', 'AnE Minh', 'Phú Lươnz ']\n",
    "\n",
    "def find_region_with_digram(addr):\n",
    "    words = addr.strip().split()\n",
    "    prov_candidate = dist_candidate = ward_candidate = None\n",
    "    \n",
    "    for word in words:\n",
    "        digrams = digram_from_string(word)\n",
    "        possible_prov = possible_dist = possible_ward = set()\n",
    "        \n",
    "        for dg in digrams:\n",
    "            possible_prov = possible_prov | (digram_to_region[dg]['province'] if dg in digram_to_region else set())\n",
    "            possible_dist = possible_dist | (digram_to_region[dg]['district'] if dg in digram_to_region else set())\n",
    "            possible_ward = possible_ward | (digram_to_region[dg]['ward'] if dg in digram_to_region else set())\n",
    "\n",
    "        if prov_candidate is None:\n",
    "            prov_candidate = possible_prov\n",
    "        else:\n",
    "            prov_candidate = prov_candidate & possible_prov\n",
    "            \n",
    "        if dist_candidate is None:\n",
    "            dist_candidate = possible_dist\n",
    "        else:\n",
    "            dist_candidate = dist_candidate & possible_dist\n",
    "            \n",
    "        if ward_candidate is None:\n",
    "            ward_candidate = possible_ward\n",
    "        else:\n",
    "            ward_candidate = ward_candidate & possible_ward\n",
    "\n",
    "        #print('prov: {}\\ndist: {}\\nward: {}'.format(possible_prov, possible_dist, possible_ward))\n",
    "        #print('-' * 5)\n",
    "\n",
    "    #print('prov: {}\\ndist: {}\\nward: {}'.format(prov_candidate, dist_candidate, ward_candidate))\n",
    "    #print('-' * 5)\n",
    "        \n",
    "    return {\n",
    "        'province': prov_candidate, \n",
    "        'district': dist_candidate, \n",
    "        'ward': ward_candidate\n",
    "    }"
   ]
  },
  {
   "cell_type": "markdown",
   "id": "896f982e",
   "metadata": {},
   "source": [
    "## Find region with digram within region constraint "
   ]
  },
  {
   "cell_type": "code",
   "execution_count": 8,
   "id": "0ed4ee27",
   "metadata": {},
   "outputs": [],
   "source": [
    "def get_list_of_region_with_constraints_recursive(result, province: {}, district: {}, ward: {}, \n",
    "                                                  level:int, stop_level:int = 0) -> None:\n",
    "    # province, district and ward can be None\n",
    "    if level <= stop_level:\n",
    "        return\n",
    "    if not (1 <= level <= 3):\n",
    "        return\n",
    "    \n",
    "    if level == 3:\n",
    "        region_level = 'province'\n",
    "        if province is not None:\n",
    "            result[region_level] = {province['name']: province}\n",
    "        else:\n",
    "            result[region_level] = region_tree\n",
    "        get_list_of_region_with_constraints_recursive(result, province, district, ward, 2)\n",
    "\n",
    "    elif level == 2:\n",
    "        region_level = 'district'\n",
    "        if district is not None:\n",
    "            result[region_level] = {district['name']: district}\n",
    "            \n",
    "            new_prov_list = {}\n",
    "            for prov_name, prov_info in result['province'].items():\n",
    "                if district in prov_info['districts'].values():\n",
    "                    new_prov_list[prov_name] = prov_info\n",
    "            result['province'] = new_prov_list\n",
    "        else:\n",
    "            dist_list = {}\n",
    "            for prov in result['province'].values():\n",
    "                for dist in prov['districts'].values():\n",
    "                    dist_list[(prov['name'], dist['name'])] = dist\n",
    "            result[region_level] = dist_list\n",
    "        get_list_of_region_with_constraints_recursive(result, province, district, ward, 1)\n",
    "            \n",
    "    elif level == 1:\n",
    "        region_level = 'ward'\n",
    "        if ward is not None:\n",
    "            result[region_level] = {ward['name']: ward}\n",
    "            \n",
    "            new_dist_list = {}\n",
    "            for dist_name, dist_info in result['district'].items():\n",
    "                if ward in dist_info['wards'].values():\n",
    "                    new_dist_list[dist_name] = dist_info\n",
    "            result['district'] = new_dist_list\n",
    "        else:\n",
    "            ward_list = {}\n",
    "            for dist in result['district'].values():\n",
    "                for w in dist['wards'].values():\n",
    "                    ward_list[(dist['name'], w['name'])] = w\n",
    "            result[region_level] = ward_list\n",
    "        get_list_of_region_with_constraints_recursive(result, province, district, ward, 0)\n",
    "\n",
    "\n",
    "def get_list_of_region_with_constraints(province: {}, district: {}, ward: {}, stop_level:int = 0):\n",
    "    # province, district and ward can be None\n",
    "    result = {\n",
    "        'province': None, \n",
    "        'district': None, \n",
    "        'ward': None\n",
    "    }\n",
    "    get_list_of_region_with_constraints_recursive(result, province, district, ward, level=3, stop_level=stop_level)\n",
    "    \n",
    "    result['province']  = {prov['name'] for prov in result['province'].values()}\n",
    "    result['district']  = {dist['name'] for dist in result['district'].values()}\n",
    "    result['ward']  = {ward['name'] for ward in result['ward'].values()}\n",
    "    \n",
    "    return result"
   ]
  },
  {
   "cell_type": "code",
   "execution_count": 9,
   "id": "a9072b47",
   "metadata": {},
   "outputs": [],
   "source": [
    "def find_region_with_digram_with_constraints(string: str, level:int, province: {}, district: {}, ward: {}):\n",
    "    # province, district and ward can be None\n",
    "    from_digram = find_region_with_digram(string)\n",
    "    from_constraint = get_list_of_region_with_constraints(province, district, ward)\n",
    "    \n",
    "    prov_result = (from_digram['province'] & from_constraint['province']) if level == 3 else from_constraint['province']\n",
    "    dist_result = (from_digram['district'] & from_constraint['district']) if level == 2 else from_constraint['district']\n",
    "    ward_result = (from_digram['ward'] & from_constraint['ward']) if level == 1 else from_constraint['ward']\n",
    "    \n",
    "    return {\n",
    "        'province': prov_result, \n",
    "        'district': dist_result, \n",
    "        'ward': ward_result\n",
    "    }"
   ]
  },
  {
   "cell_type": "code",
   "execution_count": 10,
   "id": "64236206",
   "metadata": {},
   "outputs": [],
   "source": [
    "def get_region_info_list_from_possibilities_with_constraints(\n",
    "    possibilities: {}, level: int, province: {}, district: {}, ward: {}):\n",
    "    # designed to be used by find_region_with_digram_within_region\n",
    "    \n",
    "    last_level_region_list = {}\n",
    "    current_level_region_list = {}\n",
    "    current_level = 3\n",
    "    \n",
    "    while True:\n",
    "        last_level_region_list = current_level_region_list\n",
    "        current_level_region_list = {}\n",
    "        \n",
    "        if current_level == 3:\n",
    "            if province is not None:\n",
    "                current_level_region_list[province['name']] = province\n",
    "            else:\n",
    "                current_level_region_list = {region_tree[prov]['name']: region_tree[prov] \n",
    "                                             for prov in possibilities['province']}\n",
    "                \n",
    "                # filter out prov that exists within possibility\n",
    "                filtered_list = {}\n",
    "                for pos_prov in possibilities['province']:\n",
    "                    if pos_prov in current_level_region_list:\n",
    "                        filtered_list[pos_prov] = current_level_region_list[pos_prov]\n",
    "                \n",
    "                print('filtered dist: ', [r['name'] for r in filtered_list.values()])\n",
    "                current_level_region_list = filtered_list\n",
    "                \n",
    "        elif current_level == 2:\n",
    "            if district is not None:\n",
    "                current_level_region_list[district['name']] = district \n",
    "            else:\n",
    "                # get list of all dist with current set of prov\n",
    "                for prov_name, prov_info in last_level_region_list.items():\n",
    "                    for dist_name, dist_info in prov_info['districts'].items():\n",
    "                        current_level_region_list[(prov_name, dist_name)] = dist_info\n",
    "                \n",
    "                # filter out dist that exists within possibility\n",
    "                filtered_list = {}\n",
    "                for pos_dist in possibilities['district']:\n",
    "                    for dist_name, dist_info in current_level_region_list.items():\n",
    "                        if pos_dist == dist_name[-1]:\n",
    "                            if pos_dist in filtered_list:\n",
    "                                print('Warning: district with same name found twice')\n",
    "                            filtered_list[pos_dist] = dist_info\n",
    "                \n",
    "                print('filtered dist: ', [r['name'] for r in filtered_list.values()])\n",
    "                current_level_region_list = filtered_list\n",
    "            \n",
    "        elif current_level == 1:\n",
    "            if ward is not None:\n",
    "                current_level_region_list[ward['name']] = ward\n",
    "            else:\n",
    "                # get list of all ward with current set of dist\n",
    "                for dist_name, dist_info in last_level_region_list.items():\n",
    "                    for ward_name, ward_info in dist_info['wards'].items():\n",
    "                        current_level_region_list[(dist_name, ward_name)] = ward_info\n",
    "                \n",
    "                # filter out dist that exists within possibility\n",
    "                filtered_list = {}\n",
    "                for pos_ward in possibilities['ward']:\n",
    "                    for ward_name, ward_info in current_level_region_list.items():\n",
    "                        if pos_ward == ward_name[-1]:\n",
    "                            if pos_ward in filtered_list:\n",
    "                                print('Warning: ward with same name found twice')\n",
    "                            filtered_list[pos_ward] = ward_info\n",
    "                \n",
    "                print('filtered ward: ', [r['name'] for r in filtered_list.values()])\n",
    "                current_level_region_list = filtered_list\n",
    "                \n",
    "        else:\n",
    "            raise\n",
    "        \n",
    "        if current_level == level:\n",
    "            break\n",
    "        current_level -= 1\n",
    "        \n",
    "    return current_level_region_list"
   ]
  },
  {
   "cell_type": "markdown",
   "id": "48bc543a",
   "metadata": {},
   "source": [
    "## Test run"
   ]
  },
  {
   "cell_type": "code",
   "execution_count": 18,
   "id": "0fe4e432",
   "metadata": {},
   "outputs": [
    {
     "name": "stdout",
     "output_type": "stream",
     "text": [
      "['mc', 'mỹ', 'ỹ ', ' đ', 'đứ', 'ức', ' m']\n",
      "['dh', 'di', 'ic', 'ch', ' d']\n"
     ]
    }
   ],
   "source": [
    "print(digram_from_string('Mỹ Đức'))\n",
    "print(digram_from_string('dich'))"
   ]
  },
  {
   "cell_type": "code",
   "execution_count": null,
   "id": "b95be6df",
   "metadata": {},
   "outputs": [],
   "source": [
    "result = find_region_with_digram('dich')\n",
    "for v in result.values():\n",
    "    print(len(v))\n",
    "print(result)"
   ]
  },
  {
   "cell_type": "code",
   "execution_count": null,
   "id": "430ea40c",
   "metadata": {},
   "outputs": [],
   "source": [
    "start = time.perf_counter_ns()\n",
    "for _ in range(100):\n",
    "    choice = random.randrange(0, len(addrs))\n",
    "    result = find_region_with_digram(addrs[choice])\n",
    "runtime = time.perf_counter_ns() - start\n",
    "\n",
    "print(runtime / 1_000_000, 'ms')"
   ]
  },
  {
   "cell_type": "code",
   "execution_count": null,
   "id": "eb0aa5ce",
   "metadata": {},
   "outputs": [],
   "source": [
    "result = get_list_of_region_with_constraints(region_tree['Hà Nội'], \n",
    "                                            None, \n",
    "                                            None)\n",
    "for v in result.values():\n",
    "    print(len(v))\n",
    "print(result)"
   ]
  },
  {
   "cell_type": "code",
   "execution_count": null,
   "id": "7c4c32fc",
   "metadata": {},
   "outputs": [],
   "source": [
    "start = time.perf_counter_ns()\n",
    "for _ in range(100):\n",
    "    find_region_with_digram_with_constraints('dich', 1,\n",
    "                                      region_tree['Hà Nội'], \n",
    "                                      None, \n",
    "                                      None)\n",
    "runtime = time.perf_counter_ns() - start\n",
    "\n",
    "print(runtime / 1_000_000, 'ms')"
   ]
  },
  {
   "cell_type": "code",
   "execution_count": 20,
   "id": "13cc72ba",
   "metadata": {},
   "outputs": [
    {
     "name": "stdout",
     "output_type": "stream",
     "text": [
      "dich ['dh', 'di', 'ic', 'ch', ' d']\n",
      "1\n",
      "30\n",
      "71\n",
      "{'province': {'Hà Nội'}, 'district': {'Đống Đa', 'Ứng Hòa', 'Mỹ Đức', 'Thạch Thất', 'Bắc Từ Liêm', 'Thanh Oai', 'Hai Bà Trưng', 'Đan Phượng', 'Thường Tín', 'Long Biên', 'Ba Đình', 'Thanh Xuân', 'Tây Hồ', 'Hoài Đức', 'Chương Mỹ', 'Phú Xuyên', 'Thanh Trì', 'Ba Vì', 'Phúc Thọ', 'Sơn Tây', 'Nam Từ Liêm', 'Đông Anh', 'Hà Đông', 'Quốc Oai', 'Sóc Sơn', 'Hoàng Mai', 'Gia Lâm', 'Hoàn Kiếm', 'Cầu Giấy', 'Mê Linh'}, 'ward': {'Phúc Diễn', 'Dục Tú', 'Bách Khoa', 'Phượng Dực', 'Hòa Chính', 'Bạch Đằng', 'Cầu Dền', 'Châu Sơn', 'Tân Dân', 'Phượng Cách', 'Trạch Mỹ Lộc', 'Chuyên Mỹ', 'Dương Nội', 'Dịch Vọng', 'Dương Xá', 'Duyên Hà', 'Kim Chung', 'Bạch Mai', 'Cầu Diễn', 'Đại Mạch', 'Xuân Dương', 'Châu Can', 'Chi Đông', 'Dương Hà', 'Tích Giang', 'Thạch Bàn', 'Bạch Hạ', 'Di Trạch', 'Hòa Thạch', 'Phan Chu Trinh', 'Dân Hòa', 'Cao Dương', 'Minh Châu', 'Trung Châu', 'Thạch Thán', 'Văn Chương', 'Nguyễn Du', 'Hoàng Diệu', 'Tiên Dương', 'Chu Minh', 'Phương Canh', 'Trúc Bạch', 'Thạch Hoà', 'Tảo Dương Văn', 'Canh Nậu', 'Thạch Đà', 'Mai Dịch', 'Ô Chợ Dừa', 'Chúc Sơn', 'Đông Dư', 'Vân Canh', 'Liên Châu', 'Xuân Canh', 'Phú Châu', 'Phụng Châu', 'Dương Liễu', 'Chương Dương', 'Phú Diễn', 'Duyên Thái', 'Dị Nậu', 'Tiên Dược', 'Lệ Chi', 'Dịch Vọng Hậu', 'Dương Quang', 'Chu Phan', 'Chàng Sơn', 'Thạch Xá', 'Dũng Tiến', 'Nhân Chính', 'Bích Hòa', 'Hồng Dương'}}\n"
     ]
    }
   ],
   "source": [
    "result = find_region_with_digram_with_constraints('dich', 1,\n",
    "                                      region_tree['Hà Nội'], \n",
    "                                      None, \n",
    "                                      None)\n",
    "for v in result.values():\n",
    "    print(len(v))\n",
    "print(result)"
   ]
  },
  {
   "cell_type": "code",
   "execution_count": 29,
   "id": "a005db83",
   "metadata": {},
   "outputs": [
    {
     "name": "stdout",
     "output_type": "stream",
     "text": [
      "78.52791 ms\n"
     ]
    }
   ],
   "source": [
    "start = time.perf_counter_ns()\n",
    "for _ in range(100):\n",
    "    result = find_region_with_digram_with_constraints('Mỹ Lươ Lập', 1,\n",
    "                                          region_tree['Hưng Yên'], \n",
    "                                          None, \n",
    "                                          None)\n",
    "runtime = time.perf_counter_ns() - start\n",
    "\n",
    "print(runtime / 1_000_000, 'ms')"
   ]
  },
  {
   "cell_type": "code",
   "execution_count": 30,
   "id": "acb3174d",
   "metadata": {},
   "outputs": [
    {
     "name": "stdout",
     "output_type": "stream",
     "text": [
      "filtered dist:  ['Văn Lâm', 'Phù Cừ', 'Ân Thi', 'Văn Giang', 'Hưng Yên', 'Khoái Châu', 'Tiên Lữ', 'Kim Động', 'Mỹ Hào', 'Yên Mỹ']\n",
      "filtered ward:  []\n"
     ]
    },
    {
     "data": {
      "text/plain": [
       "{}"
      ]
     },
     "execution_count": 30,
     "metadata": {},
     "output_type": "execute_result"
    }
   ],
   "source": [
    "get_region_info_list_from_possibilities_with_constraints(result, 1,\n",
    "                                                       region_tree['Hưng Yên'], \n",
    "                                                       None, \n",
    "                                                       None)"
   ]
  },
  {
   "cell_type": "code",
   "execution_count": null,
   "id": "c0ca4184",
   "metadata": {},
   "outputs": [],
   "source": []
  }
 ],
 "metadata": {
  "kernelspec": {
   "display_name": "AddressMatching",
   "language": "python",
   "name": "addressmatching"
  },
  "language_info": {
   "codemirror_mode": {
    "name": "ipython",
    "version": 3
   },
   "file_extension": ".py",
   "mimetype": "text/x-python",
   "name": "python",
   "nbconvert_exporter": "python",
   "pygments_lexer": "ipython3",
   "version": "3.12.6"
  }
 },
 "nbformat": 4,
 "nbformat_minor": 5
}
